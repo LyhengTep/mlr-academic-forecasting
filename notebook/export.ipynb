{
 "cells": [
  {
   "cell_type": "code",
   "execution_count": 9,
   "id": "5ba09764-7633-4aa4-a20e-952fbe106e95",
   "metadata": {},
   "outputs": [],
   "source": [
    "import sqlite3\n",
    "from pathlib import Path\n",
    "import csv"
   ]
  },
  {
   "cell_type": "code",
   "execution_count": 10,
   "id": "30c73cf0-6b04-4e41-96ca-9c7ca8966511",
   "metadata": {},
   "outputs": [],
   "source": [
    "#DB connection\n",
    "conn = sqlite3.connect(Path(\"../data/student_survey.db\"))\n",
    "cur = conn.cursor()"
   ]
  },
  {
   "cell_type": "code",
   "execution_count": 11,
   "id": "250554ea-5edf-4951-85ee-68d105740283",
   "metadata": {},
   "outputs": [],
   "source": [
    "#Export data into CSV\n",
    "with open(Path(\"../data/student_survey.csv\"), 'w', newline='') as csvfile:\n",
    "    csvwriter = csv.writer(csvfile, delimiter=',',\n",
    "                            quotechar='|', quoting=csv.QUOTE_MINIMAL)\n",
    "    csvwriter.writerow(['Hours Studied','Previous Scores','Extracurricular Activities','Sleep Hours','Sample Question Papers Practiced','Performance Index'])\n",
    "    res=cur.execute('select hrs_studied,prv_scores,extra_actv,sleep_hrs,smp_q_papers,pfm_index from student_survey')\n",
    "    surveys=res.fetchall()\n",
    "    csvwriter.writerows(surveys)\n",
    "    cur.close()\n",
    "    "
   ]
  }
 ],
 "metadata": {
  "kernelspec": {
   "display_name": "venv",
   "language": "python",
   "name": "venv"
  },
  "language_info": {
   "codemirror_mode": {
    "name": "ipython",
    "version": 3
   },
   "file_extension": ".py",
   "mimetype": "text/x-python",
   "name": "python",
   "nbconvert_exporter": "python",
   "pygments_lexer": "ipython3",
   "version": "3.11.9"
  }
 },
 "nbformat": 4,
 "nbformat_minor": 5
}
