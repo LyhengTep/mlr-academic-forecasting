{
 "cells": [
  {
   "cell_type": "code",
   "execution_count": 6,
   "id": "3e061fc6-fb61-4079-991d-d08ffa86e46e",
   "metadata": {},
   "outputs": [],
   "source": [
    "import sqlite3\n",
    "from pathlib import Path\n",
    "import csv"
   ]
  },
  {
   "cell_type": "code",
   "execution_count": 19,
   "id": "2a7cc7bf-c573-4132-933d-9fe3251da1a6",
   "metadata": {},
   "outputs": [],
   "source": [
    "# DB connection\n",
    "conn = sqlite3.connect(Path(\"../data/student_survey.db\"))"
   ]
  },
  {
   "cell_type": "code",
   "execution_count": 12,
   "id": "cb1f0355-430e-4bbe-96a1-f11c2abe90a7",
   "metadata": {},
   "outputs": [
    {
     "data": {
      "text/plain": [
       "<sqlite3.Cursor at 0x107dc6340>"
      ]
     },
     "execution_count": 12,
     "metadata": {},
     "output_type": "execute_result"
    }
   ],
   "source": [
    "conn.execute('''CREATE TABLE student_survey\n",
    "         (id INT PRIMARY KEY NOT NULL,\n",
    "         hrs_studied           INT,\n",
    "         prv_scores            INT,\n",
    "         extra_actv        CHAR(50),\n",
    "         sleep_hrs         INT,\n",
    "         smp_q_papers INT,\n",
    "         pfm_index REAL);''')"
   ]
  },
  {
   "cell_type": "code",
   "execution_count": 20,
   "id": "dae3cc7e-6cae-4af7-ba1f-0afb59b99d70",
   "metadata": {},
   "outputs": [],
   "source": [
    "with open(Path(\"../assets/Student_Performance.csv\")) as csvfile:\n",
    "    reader = csv.DictReader(csvfile)\n",
    "    index=1\n",
    "    for row in reader:\n",
    "        # print(index)\n",
    "        conn.execute(''' INSERT INTO student_survey (id,hrs_studied,prv_scores,extra_actv,sleep_hrs,smp_q_papers,pfm_index)\n",
    "      VALUES (?,?,?,?,?,?,?)''',(index,row[\"Hours Studied\"],row[\"Previous Scores\"],row[\"Extracurricular Activities\"],row[\"Sleep Hours\"],row[\"Sample Question Papers Practiced\"],row[\"Performance Index\"]));\n",
    "        index=index+1\n",
    "    conn.commit()\n",
    "\n",
    "    conn.close()"
   ]
  },
  {
   "cell_type": "code",
   "execution_count": null,
   "id": "2389db78-b56c-4cc4-a8a9-e36aa64c262a",
   "metadata": {},
   "outputs": [],
   "source": []
  }
 ],
 "metadata": {
  "kernelspec": {
   "display_name": "venv",
   "language": "python",
   "name": "venv"
  },
  "language_info": {
   "codemirror_mode": {
    "name": "ipython",
    "version": 3
   },
   "file_extension": ".py",
   "mimetype": "text/x-python",
   "name": "python",
   "nbconvert_exporter": "python",
   "pygments_lexer": "ipython3",
   "version": "3.11.9"
  }
 },
 "nbformat": 4,
 "nbformat_minor": 5
}
