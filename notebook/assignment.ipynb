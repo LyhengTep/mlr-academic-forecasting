{
 "cells": [
  {
   "cell_type": "markdown",
   "id": "014b3969-031b-442f-9b31-393d64ac0676",
   "metadata": {},
   "source": [
    "# Import Lib"
   ]
  },
  {
   "cell_type": "code",
   "execution_count": 2,
   "id": "36457772-c949-4e2e-8ddc-a8da4a7bc282",
   "metadata": {},
   "outputs": [
    {
     "name": "stderr",
     "output_type": "stream",
     "text": [
      "/var/folders/6g/p5npl2ps0v79w2wfzplmdvgm0000gn/T/ipykernel_47932/689527831.py:2: DeprecationWarning: \n",
      "Pyarrow will become a required dependency of pandas in the next major release of pandas (pandas 3.0),\n",
      "(to allow more performant data types, such as the Arrow string type, and better interoperability with other libraries)\n",
      "but was not found to be installed on your system.\n",
      "If this would cause problems for you,\n",
      "please provide us feedback at https://github.com/pandas-dev/pandas/issues/54466\n",
      "        \n",
      "  import pandas as pd\n"
     ]
    }
   ],
   "source": [
    "from pathlib import Path\n",
    "import pandas as pd\n",
    "import numpy as np\n",
    "import matplotlib.pyplot as plt\n",
    "import seaborn as sns\n",
    "from sklearn.model_selection import train_test_split\n",
    "from sklearn.linear_model import LinearRegression\n",
    "from sklearn.metrics import mean_squared_error, r2_score,root_mean_squared_error\n",
    "import statsmodels.api as sm\n",
    "from statsmodels.stats.outliers_influence import variance_inflation_factor \n",
    "import seaborn as sns"
   ]
  },
  {
   "cell_type": "code",
   "execution_count": 3,
   "id": "da47e973-15bf-410c-9590-49825b7b47f2",
   "metadata": {},
   "outputs": [],
   "source": [
    "%config IPCompleter.greedy=True"
   ]
  },
  {
   "cell_type": "code",
   "execution_count": 4,
   "id": "0121115b-1e8d-483b-a752-30c67a8d1fd6",
   "metadata": {
    "editable": true,
    "slideshow": {
     "slide_type": ""
    },
    "tags": []
   },
   "outputs": [],
   "source": [
    "#load data from CSV\n",
    "data_set=pd.read_csv(Path(\"../assets/Student_Performance.csv\"))"
   ]
  },
  {
   "cell_type": "code",
   "execution_count": 5,
   "id": "a19bd48e-d07f-43e9-9927-84a18c4347d5",
   "metadata": {},
   "outputs": [
    {
     "data": {
      "text/plain": [
       "Hours Studied                         int64\n",
       "Previous Scores                       int64\n",
       "Extracurricular Activities           object\n",
       "Sleep Hours                           int64\n",
       "Sample Question Papers Practiced      int64\n",
       "Performance Index                   float64\n",
       "dtype: object"
      ]
     },
     "execution_count": 5,
     "metadata": {},
     "output_type": "execute_result"
    }
   ],
   "source": [
    "data_set.dtypes"
   ]
  },
  {
   "cell_type": "code",
   "execution_count": 6,
   "id": "84eebe77-4381-4b8c-b785-5372c9810ab3",
   "metadata": {},
   "outputs": [
    {
     "data": {
      "text/html": [
       "<div>\n",
       "<style scoped>\n",
       "    .dataframe tbody tr th:only-of-type {\n",
       "        vertical-align: middle;\n",
       "    }\n",
       "\n",
       "    .dataframe tbody tr th {\n",
       "        vertical-align: top;\n",
       "    }\n",
       "\n",
       "    .dataframe thead th {\n",
       "        text-align: right;\n",
       "    }\n",
       "</style>\n",
       "<table border=\"1\" class=\"dataframe\">\n",
       "  <thead>\n",
       "    <tr style=\"text-align: right;\">\n",
       "      <th></th>\n",
       "      <th>Hours Studied</th>\n",
       "      <th>Previous Scores</th>\n",
       "      <th>Extracurricular Activities</th>\n",
       "      <th>Sleep Hours</th>\n",
       "      <th>Sample Question Papers Practiced</th>\n",
       "      <th>Performance Index</th>\n",
       "    </tr>\n",
       "  </thead>\n",
       "  <tbody>\n",
       "    <tr>\n",
       "      <th>0</th>\n",
       "      <td>7</td>\n",
       "      <td>99</td>\n",
       "      <td>Yes</td>\n",
       "      <td>9</td>\n",
       "      <td>1</td>\n",
       "      <td>91.0</td>\n",
       "    </tr>\n",
       "    <tr>\n",
       "      <th>1</th>\n",
       "      <td>4</td>\n",
       "      <td>82</td>\n",
       "      <td>No</td>\n",
       "      <td>4</td>\n",
       "      <td>2</td>\n",
       "      <td>65.0</td>\n",
       "    </tr>\n",
       "    <tr>\n",
       "      <th>2</th>\n",
       "      <td>8</td>\n",
       "      <td>51</td>\n",
       "      <td>Yes</td>\n",
       "      <td>7</td>\n",
       "      <td>2</td>\n",
       "      <td>45.0</td>\n",
       "    </tr>\n",
       "    <tr>\n",
       "      <th>3</th>\n",
       "      <td>5</td>\n",
       "      <td>52</td>\n",
       "      <td>Yes</td>\n",
       "      <td>5</td>\n",
       "      <td>2</td>\n",
       "      <td>36.0</td>\n",
       "    </tr>\n",
       "    <tr>\n",
       "      <th>4</th>\n",
       "      <td>7</td>\n",
       "      <td>75</td>\n",
       "      <td>No</td>\n",
       "      <td>8</td>\n",
       "      <td>5</td>\n",
       "      <td>66.0</td>\n",
       "    </tr>\n",
       "  </tbody>\n",
       "</table>\n",
       "</div>"
      ],
      "text/plain": [
       "   Hours Studied  Previous Scores Extracurricular Activities  Sleep Hours  \\\n",
       "0              7               99                        Yes            9   \n",
       "1              4               82                         No            4   \n",
       "2              8               51                        Yes            7   \n",
       "3              5               52                        Yes            5   \n",
       "4              7               75                         No            8   \n",
       "\n",
       "   Sample Question Papers Practiced  Performance Index  \n",
       "0                                 1               91.0  \n",
       "1                                 2               65.0  \n",
       "2                                 2               45.0  \n",
       "3                                 2               36.0  \n",
       "4                                 5               66.0  "
      ]
     },
     "execution_count": 6,
     "metadata": {},
     "output_type": "execute_result"
    }
   ],
   "source": [
    "data_set.head()"
   ]
  },
  {
   "cell_type": "code",
   "execution_count": 7,
   "id": "323aa89e-d444-45a7-8a0f-d4b63c053f85",
   "metadata": {},
   "outputs": [
    {
     "name": "stdout",
     "output_type": "stream",
     "text": [
      "Missing counts per column:\n",
      " Hours Studied                       0\n",
      "Previous Scores                     0\n",
      "Extracurricular Activities          0\n",
      "Sleep Hours                         0\n",
      "Sample Question Papers Practiced    0\n",
      "Performance Index                   0\n",
      "dtype: int64\n"
     ]
    }
   ],
   "source": [
    "# Cleaning data\n",
    "missing_counts = data_set.isnull().sum()\n",
    "print(\"Missing counts per column:\\n\",missing_counts)"
   ]
  },
  {
   "cell_type": "markdown",
   "id": "24caa7c0-1f61-43de-b33a-11b9dd4de954",
   "metadata": {},
   "source": [
    "This indicates that there is no missing in the dataset"
   ]
  },
  {
   "cell_type": "code",
   "execution_count": 8,
   "id": "260e726d-085d-4a9b-a8e2-6ef5a3e3036b",
   "metadata": {},
   "outputs": [
    {
     "name": "stdout",
     "output_type": "stream",
     "text": [
      "Duplicate data:\n",
      " 0       False\n",
      "1       False\n",
      "2       False\n",
      "3       False\n",
      "4       False\n",
      "        ...  \n",
      "9995    False\n",
      "9996    False\n",
      "9997    False\n",
      "9998    False\n",
      "9999    False\n",
      "Length: 10000, dtype: bool\n",
      "\n",
      "Number of duplicate rows: 127\n"
     ]
    }
   ],
   "source": [
    "duplicates = data_set.duplicated()\n",
    "duplicate_count = duplicates.sum()\n",
    "print(\"Duplicate data:\\n\", duplicates)\n",
    "print(\"\\nNumber of duplicate rows:\", duplicate_count)"
   ]
  },
  {
   "cell_type": "code",
   "execution_count": 9,
   "id": "84bb3f12-29f1-4511-933f-23ccc533f7a4",
   "metadata": {},
   "outputs": [],
   "source": [
    "data_set.drop_duplicates(inplace=True)"
   ]
  },
  {
   "cell_type": "code",
   "execution_count": 10,
   "id": "43a2b1d5-fe08-4ff6-8c03-184ea5691c4b",
   "metadata": {},
   "outputs": [
    {
     "name": "stdout",
     "output_type": "stream",
     "text": [
      "Duplicate data:\n",
      " 0       False\n",
      "1       False\n",
      "2       False\n",
      "3       False\n",
      "4       False\n",
      "        ...  \n",
      "9995    False\n",
      "9996    False\n",
      "9997    False\n",
      "9998    False\n",
      "9999    False\n",
      "Length: 9873, dtype: bool\n",
      "\n",
      "Number of duplicate rows: 0\n"
     ]
    }
   ],
   "source": [
    "#Check cleaning result\n",
    "duplicates = data_set.duplicated()\n",
    "duplicate_count = duplicates.sum()\n",
    "print(\"Duplicate data:\\n\", duplicates)\n",
    "print(\"\\nNumber of duplicate rows:\", duplicate_count)"
   ]
  },
  {
   "cell_type": "markdown",
   "id": "400f23d6-5224-4678-9213-1df844550dde",
   "metadata": {},
   "source": [
    "## Label encoding "
   ]
  },
  {
   "cell_type": "code",
   "execution_count": 11,
   "id": "bb25233b-0bac-4ead-a7e4-5848fd22a1ee",
   "metadata": {},
   "outputs": [],
   "source": [
    "#Label encoding\n",
    "data_set['Extracurricular Activities']= data_set['Extracurricular Activities'].map({'Yes': 1, 'No': 0})"
   ]
  },
  {
   "cell_type": "code",
   "execution_count": 12,
   "id": "10d6b2ef-dd7a-4a60-9f9f-37e5582d0f7d",
   "metadata": {},
   "outputs": [
    {
     "data": {
      "text/html": [
       "<div>\n",
       "<style scoped>\n",
       "    .dataframe tbody tr th:only-of-type {\n",
       "        vertical-align: middle;\n",
       "    }\n",
       "\n",
       "    .dataframe tbody tr th {\n",
       "        vertical-align: top;\n",
       "    }\n",
       "\n",
       "    .dataframe thead th {\n",
       "        text-align: right;\n",
       "    }\n",
       "</style>\n",
       "<table border=\"1\" class=\"dataframe\">\n",
       "  <thead>\n",
       "    <tr style=\"text-align: right;\">\n",
       "      <th></th>\n",
       "      <th>Hours Studied</th>\n",
       "      <th>Previous Scores</th>\n",
       "      <th>Extracurricular Activities</th>\n",
       "      <th>Sleep Hours</th>\n",
       "      <th>Sample Question Papers Practiced</th>\n",
       "      <th>Performance Index</th>\n",
       "    </tr>\n",
       "  </thead>\n",
       "  <tbody>\n",
       "    <tr>\n",
       "      <th>0</th>\n",
       "      <td>7</td>\n",
       "      <td>99</td>\n",
       "      <td>1</td>\n",
       "      <td>9</td>\n",
       "      <td>1</td>\n",
       "      <td>91.0</td>\n",
       "    </tr>\n",
       "    <tr>\n",
       "      <th>1</th>\n",
       "      <td>4</td>\n",
       "      <td>82</td>\n",
       "      <td>0</td>\n",
       "      <td>4</td>\n",
       "      <td>2</td>\n",
       "      <td>65.0</td>\n",
       "    </tr>\n",
       "    <tr>\n",
       "      <th>2</th>\n",
       "      <td>8</td>\n",
       "      <td>51</td>\n",
       "      <td>1</td>\n",
       "      <td>7</td>\n",
       "      <td>2</td>\n",
       "      <td>45.0</td>\n",
       "    </tr>\n",
       "    <tr>\n",
       "      <th>3</th>\n",
       "      <td>5</td>\n",
       "      <td>52</td>\n",
       "      <td>1</td>\n",
       "      <td>5</td>\n",
       "      <td>2</td>\n",
       "      <td>36.0</td>\n",
       "    </tr>\n",
       "    <tr>\n",
       "      <th>4</th>\n",
       "      <td>7</td>\n",
       "      <td>75</td>\n",
       "      <td>0</td>\n",
       "      <td>8</td>\n",
       "      <td>5</td>\n",
       "      <td>66.0</td>\n",
       "    </tr>\n",
       "  </tbody>\n",
       "</table>\n",
       "</div>"
      ],
      "text/plain": [
       "   Hours Studied  Previous Scores  Extracurricular Activities  Sleep Hours  \\\n",
       "0              7               99                           1            9   \n",
       "1              4               82                           0            4   \n",
       "2              8               51                           1            7   \n",
       "3              5               52                           1            5   \n",
       "4              7               75                           0            8   \n",
       "\n",
       "   Sample Question Papers Practiced  Performance Index  \n",
       "0                                 1               91.0  \n",
       "1                                 2               65.0  \n",
       "2                                 2               45.0  \n",
       "3                                 2               36.0  \n",
       "4                                 5               66.0  "
      ]
     },
     "execution_count": 12,
     "metadata": {},
     "output_type": "execute_result"
    }
   ],
   "source": [
    "data_set.head()"
   ]
  },
  {
   "cell_type": "code",
   "execution_count": 13,
   "id": "34df50af-2829-4380-b2ad-f55236a30d9e",
   "metadata": {},
   "outputs": [
    {
     "data": {
      "text/html": [
       "<div>\n",
       "<style scoped>\n",
       "    .dataframe tbody tr th:only-of-type {\n",
       "        vertical-align: middle;\n",
       "    }\n",
       "\n",
       "    .dataframe tbody tr th {\n",
       "        vertical-align: top;\n",
       "    }\n",
       "\n",
       "    .dataframe thead th {\n",
       "        text-align: right;\n",
       "    }\n",
       "</style>\n",
       "<table border=\"1\" class=\"dataframe\">\n",
       "  <thead>\n",
       "    <tr style=\"text-align: right;\">\n",
       "      <th></th>\n",
       "      <th>Hours Studied</th>\n",
       "      <th>Previous Scores</th>\n",
       "      <th>Extracurricular Activities</th>\n",
       "      <th>Sleep Hours</th>\n",
       "      <th>Sample Question Papers Practiced</th>\n",
       "      <th>Performance Index</th>\n",
       "    </tr>\n",
       "  </thead>\n",
       "  <tbody>\n",
       "    <tr>\n",
       "      <th>count</th>\n",
       "      <td>9873.000000</td>\n",
       "      <td>9873.000000</td>\n",
       "      <td>9873.000000</td>\n",
       "      <td>9873.000000</td>\n",
       "      <td>9873.000000</td>\n",
       "      <td>9873.000000</td>\n",
       "    </tr>\n",
       "    <tr>\n",
       "      <th>mean</th>\n",
       "      <td>4.992100</td>\n",
       "      <td>69.441102</td>\n",
       "      <td>0.494986</td>\n",
       "      <td>6.531652</td>\n",
       "      <td>4.583004</td>\n",
       "      <td>55.216651</td>\n",
       "    </tr>\n",
       "    <tr>\n",
       "      <th>std</th>\n",
       "      <td>2.589081</td>\n",
       "      <td>17.325601</td>\n",
       "      <td>0.500000</td>\n",
       "      <td>1.697683</td>\n",
       "      <td>2.867202</td>\n",
       "      <td>19.208570</td>\n",
       "    </tr>\n",
       "    <tr>\n",
       "      <th>min</th>\n",
       "      <td>1.000000</td>\n",
       "      <td>40.000000</td>\n",
       "      <td>0.000000</td>\n",
       "      <td>4.000000</td>\n",
       "      <td>0.000000</td>\n",
       "      <td>10.000000</td>\n",
       "    </tr>\n",
       "    <tr>\n",
       "      <th>25%</th>\n",
       "      <td>3.000000</td>\n",
       "      <td>54.000000</td>\n",
       "      <td>0.000000</td>\n",
       "      <td>5.000000</td>\n",
       "      <td>2.000000</td>\n",
       "      <td>40.000000</td>\n",
       "    </tr>\n",
       "    <tr>\n",
       "      <th>50%</th>\n",
       "      <td>5.000000</td>\n",
       "      <td>69.000000</td>\n",
       "      <td>0.000000</td>\n",
       "      <td>7.000000</td>\n",
       "      <td>5.000000</td>\n",
       "      <td>55.000000</td>\n",
       "    </tr>\n",
       "    <tr>\n",
       "      <th>75%</th>\n",
       "      <td>7.000000</td>\n",
       "      <td>85.000000</td>\n",
       "      <td>1.000000</td>\n",
       "      <td>8.000000</td>\n",
       "      <td>7.000000</td>\n",
       "      <td>70.000000</td>\n",
       "    </tr>\n",
       "    <tr>\n",
       "      <th>max</th>\n",
       "      <td>9.000000</td>\n",
       "      <td>99.000000</td>\n",
       "      <td>1.000000</td>\n",
       "      <td>9.000000</td>\n",
       "      <td>9.000000</td>\n",
       "      <td>100.000000</td>\n",
       "    </tr>\n",
       "  </tbody>\n",
       "</table>\n",
       "</div>"
      ],
      "text/plain": [
       "       Hours Studied  Previous Scores  Extracurricular Activities  \\\n",
       "count    9873.000000      9873.000000                 9873.000000   \n",
       "mean        4.992100        69.441102                    0.494986   \n",
       "std         2.589081        17.325601                    0.500000   \n",
       "min         1.000000        40.000000                    0.000000   \n",
       "25%         3.000000        54.000000                    0.000000   \n",
       "50%         5.000000        69.000000                    0.000000   \n",
       "75%         7.000000        85.000000                    1.000000   \n",
       "max         9.000000        99.000000                    1.000000   \n",
       "\n",
       "       Sleep Hours  Sample Question Papers Practiced  Performance Index  \n",
       "count  9873.000000                       9873.000000        9873.000000  \n",
       "mean      6.531652                          4.583004          55.216651  \n",
       "std       1.697683                          2.867202          19.208570  \n",
       "min       4.000000                          0.000000          10.000000  \n",
       "25%       5.000000                          2.000000          40.000000  \n",
       "50%       7.000000                          5.000000          55.000000  \n",
       "75%       8.000000                          7.000000          70.000000  \n",
       "max       9.000000                          9.000000         100.000000  "
      ]
     },
     "execution_count": 13,
     "metadata": {},
     "output_type": "execute_result"
    }
   ],
   "source": [
    "data_set.describe()"
   ]
  },
  {
   "cell_type": "markdown",
   "id": "24b2def9-8d4e-440a-bd4f-7da3033888a4",
   "metadata": {},
   "source": [
    "## Colinearity check"
   ]
  },
  {
   "cell_type": "code",
   "execution_count": 14,
   "id": "ef607a81-97aa-4ef0-a462-3857117f2529",
   "metadata": {},
   "outputs": [
    {
     "data": {
      "image/png": "[encoded data removed]",
      "text/plain": [
       "<Figure size 640x480 with 2 Axes>"
      ]
     },
     "metadata": {},
     "output_type": "display_data"
    }
   ],
   "source": [
    "#Colinearity Check\n",
    "correlation_matrix = data_set.corr()\n",
    "heatmap_plt = sns.heatmap(correlation_matrix, annot=True, cmap='coolwarm')\n",
    "# heatmap_plt.figure.set_size_inches(12, 8) \n",
    "fig=heatmap_plt.get_figure()\n",
    "fig.savefig(\"correlation.png\",dpi=300, bbox_inches='tight')"
   ]
  },
  {
   "cell_type": "markdown",
   "id": "7ad52f03-a58d-41e2-a4ce-f04651d7fc56",
   "metadata": {},
   "source": [
    "## Plotting significant variables against Dependent variable"
   ]
  },
  {
   "cell_type": "code",
   "execution_count": 15,
   "id": "35ce16ec-d8a4-483c-b7e5-3cfef75a5936",
   "metadata": {},
   "outputs": [
    {
     "data": {
      "image/png": "[encoded data removed]",
      "text/plain": [
       "<Figure size 640x480 with 1 Axes>"
      ]
     },
     "metadata": {},
     "output_type": "display_data"
    }
   ],
   "source": [
    "#Plotting significant variables against Dependent variable¶\n",
    "plt.scatter(data_set['Previous Scores'],data_set['Performance Index'])\n",
    "plt.title(\"Previous Scores vs Performance Index\")\n",
    "plt.xlabel(\"Previous Scores\")\n",
    "plt.ylabel(\"Performance Index\")\n",
    "plt.show()"
   ]
  },
  {
   "cell_type": "code",
   "execution_count": 16,
   "id": "556aae7b-b8c5-46ee-b864-8a732ada1114",
   "metadata": {},
   "outputs": [
    {
     "data": {
      "image/png": "[encoded data removed]",
      "text/plain": [
       "<Figure size 640x480 with 1 Axes>"
      ]
     },
     "metadata": {},
     "output_type": "display_data"
    }
   ],
   "source": [
    "plt.scatter(data_set['Hours Studied'],data_set['Performance Index'])\n",
    "plt.title(\"Hours Studied vs Performance Index\")\n",
    "plt.xlabel(\"Hours Studied\")\n",
    "plt.ylabel(\"Performance Index\")\n",
    "plt.show()"
   ]
  },
  {
   "cell_type": "code",
   "execution_count": 17,
   "id": "fc9d0351-29ac-4693-b906-809c85d5fb17",
   "metadata": {},
   "outputs": [],
   "source": [
    "X = data_set.drop('Performance Index', axis = 1)\n",
    "y = data_set['Performance Index']\n",
    "X_with_const= sm.add_constant(X)"
   ]
  },
  {
   "cell_type": "code",
   "execution_count": 18,
   "id": "3c859b3a-16fe-4f10-990f-a9caafacca72",
   "metadata": {},
   "outputs": [
    {
     "name": "stdout",
     "output_type": "stream",
     "text": [
      "90.0\n"
     ]
    }
   ],
   "source": [
    "min_value = y.min()\n",
    "max_value = y.max()\n",
    "range_value = max_value - min_value\n",
    "print(range_value)"
   ]
  },
  {
   "cell_type": "markdown",
   "id": "9576555c-6dfe-48c0-b69d-fa89da42219a",
   "metadata": {},
   "source": [
    "## Variance Inflation Factor check for multicollinearity among predictors"
   ]
  },
  {
   "cell_type": "code",
   "execution_count": 19,
   "id": "b97ecd64-9323-4218-8f52-c78d4c87a9f3",
   "metadata": {},
   "outputs": [
    {
     "data": {
      "text/html": [
       "<div>\n",
       "<style scoped>\n",
       "    .dataframe tbody tr th:only-of-type {\n",
       "        vertical-align: middle;\n",
       "    }\n",
       "\n",
       "    .dataframe tbody tr th {\n",
       "        vertical-align: top;\n",
       "    }\n",
       "\n",
       "    .dataframe thead th {\n",
       "        text-align: right;\n",
       "    }\n",
       "</style>\n",
       "<table border=\"1\" class=\"dataframe\">\n",
       "  <thead>\n",
       "    <tr style=\"text-align: right;\">\n",
       "      <th></th>\n",
       "      <th>Variable</th>\n",
       "      <th>VIF</th>\n",
       "    </tr>\n",
       "  </thead>\n",
       "  <tbody>\n",
       "    <tr>\n",
       "      <th>0</th>\n",
       "      <td>const</td>\n",
       "      <td>38.797757</td>\n",
       "    </tr>\n",
       "    <tr>\n",
       "      <th>1</th>\n",
       "      <td>Hours Studied</td>\n",
       "      <td>1.000393</td>\n",
       "    </tr>\n",
       "    <tr>\n",
       "      <th>2</th>\n",
       "      <td>Previous Scores</td>\n",
       "      <td>1.000350</td>\n",
       "    </tr>\n",
       "    <tr>\n",
       "      <th>3</th>\n",
       "      <td>Extracurricular Activities</td>\n",
       "      <td>1.000888</td>\n",
       "    </tr>\n",
       "    <tr>\n",
       "      <th>4</th>\n",
       "      <td>Sleep Hours</td>\n",
       "      <td>1.000676</td>\n",
       "    </tr>\n",
       "    <tr>\n",
       "      <th>5</th>\n",
       "      <td>Sample Question Papers Practiced</td>\n",
       "      <td>1.000540</td>\n",
       "    </tr>\n",
       "  </tbody>\n",
       "</table>\n",
       "</div>"
      ],
      "text/plain": [
       "                           Variable        VIF\n",
       "0                             const  38.797757\n",
       "1                     Hours Studied   1.000393\n",
       "2                   Previous Scores   1.000350\n",
       "3        Extracurricular Activities   1.000888\n",
       "4                       Sleep Hours   1.000676\n",
       "5  Sample Question Papers Practiced   1.000540"
      ]
     },
     "execution_count": 19,
     "metadata": {},
     "output_type": "execute_result"
    }
   ],
   "source": [
    "#VIF Check among predictors\n",
    "vif_data=pd.DataFrame()\n",
    "# print(X.columns)\n",
    "# X.shape\n",
    "vif_data[\"Variable\"] = X_with_const.columns\n",
    "vif_data[\"VIF\"] = [variance_inflation_factor(X_with_const.values, i) for i in range(X_with_const.shape[1])]\n",
    "vif_data"
   ]
  },
  {
   "cell_type": "code",
   "execution_count": 20,
   "id": "86ebae4d-0ffa-4fec-bd78-511bf5a2878f",
   "metadata": {},
   "outputs": [
    {
     "data": {
      "text/plain": [
       "Index(['Hours Studied', 'Previous Scores', 'Extracurricular Activities',\n",
       "       'Sleep Hours', 'Sample Question Papers Practiced'],\n",
       "      dtype='object')"
      ]
     },
     "execution_count": 20,
     "metadata": {},
     "output_type": "execute_result"
    }
   ],
   "source": [
    "X.columns"
   ]
  },
  {
   "cell_type": "markdown",
   "id": "96a17e19-af92-461b-8edb-75b60ef31316",
   "metadata": {},
   "source": [
    "## Before elimination"
   ]
  },
  {
   "cell_type": "code",
   "execution_count": 21,
   "id": "385e7e5b-199b-4552-a68b-f59bb1ab8589",
   "metadata": {},
   "outputs": [
    {
     "data": {
      "text/html": [
       "<table class=\"simpletable\">\n",
       "<caption>OLS Regression Results</caption>\n",
       "<tr>\n",
       "  <th>Dep. Variable:</th>    <td>Performance Index</td> <th>  R-squared:         </th> <td>   0.989</td> \n",
       "</tr>\n",
       "<tr>\n",
       "  <th>Model:</th>                   <td>OLS</td>        <th>  Adj. R-squared:    </th> <td>   0.989</td> \n",
       "</tr>\n",
       "<tr>\n",
       "  <th>Method:</th>             <td>Least Squares</td>   <th>  F-statistic:       </th> <td>1.724e+05</td>\n",
       "</tr>\n",
       "<tr>\n",
       "  <th>Date:</th>             <td>Tue, 29 Oct 2024</td>  <th>  Prob (F-statistic):</th>  <td>  0.00</td>  \n",
       "</tr>\n",
       "<tr>\n",
       "  <th>Time:</th>                 <td>18:35:48</td>      <th>  Log-Likelihood:    </th> <td> -21065.</td> \n",
       "</tr>\n",
       "<tr>\n",
       "  <th>No. Observations:</th>      <td>  9873</td>       <th>  AIC:               </th> <td>4.214e+04</td>\n",
       "</tr>\n",
       "<tr>\n",
       "  <th>Df Residuals:</th>          <td>  9867</td>       <th>  BIC:               </th> <td>4.219e+04</td>\n",
       "</tr>\n",
       "<tr>\n",
       "  <th>Df Model:</th>              <td>     5</td>       <th>                     </th>     <td> </td>    \n",
       "</tr>\n",
       "<tr>\n",
       "  <th>Covariance Type:</th>      <td>nonrobust</td>     <th>                     </th>     <td> </td>    \n",
       "</tr>\n",
       "</table>\n",
       "<table class=\"simpletable\">\n",
       "<tr>\n",
       "                  <td></td>                    <th>coef</th>     <th>std err</th>      <th>t</th>      <th>P>|t|</th>  <th>[0.025</th>    <th>0.975]</th>  \n",
       "</tr>\n",
       "<tr>\n",
       "  <th>const</th>                            <td>  -34.0689</td> <td>    0.128</td> <td> -265.875</td> <td> 0.000</td> <td>  -34.320</td> <td>  -33.818</td>\n",
       "</tr>\n",
       "<tr>\n",
       "  <th>Hours Studied</th>                    <td>    2.8527</td> <td>    0.008</td> <td>  358.940</td> <td> 0.000</td> <td>    2.837</td> <td>    2.868</td>\n",
       "</tr>\n",
       "<tr>\n",
       "  <th>Previous Scores</th>                  <td>    1.0183</td> <td>    0.001</td> <td>  857.427</td> <td> 0.000</td> <td>    1.016</td> <td>    1.021</td>\n",
       "</tr>\n",
       "<tr>\n",
       "  <th>Extracurricular Activities</th>       <td>    0.6167</td> <td>    0.041</td> <td>   14.981</td> <td> 0.000</td> <td>    0.536</td> <td>    0.697</td>\n",
       "</tr>\n",
       "<tr>\n",
       "  <th>Sleep Hours</th>                      <td>    0.4803</td> <td>    0.012</td> <td>   39.623</td> <td> 0.000</td> <td>    0.457</td> <td>    0.504</td>\n",
       "</tr>\n",
       "<tr>\n",
       "  <th>Sample Question Papers Practiced</th> <td>    0.1939</td> <td>    0.007</td> <td>   27.017</td> <td> 0.000</td> <td>    0.180</td> <td>    0.208</td>\n",
       "</tr>\n",
       "</table>\n",
       "<table class=\"simpletable\">\n",
       "<tr>\n",
       "  <th>Omnibus:</th>       <td> 3.123</td> <th>  Durbin-Watson:     </th> <td>   2.003</td>\n",
       "</tr>\n",
       "<tr>\n",
       "  <th>Prob(Omnibus):</th> <td> 0.210</td> <th>  Jarque-Bera (JB):  </th> <td>   3.224</td>\n",
       "</tr>\n",
       "<tr>\n",
       "  <th>Skew:</th>          <td> 0.014</td> <th>  Prob(JB):          </th> <td>   0.200</td>\n",
       "</tr>\n",
       "<tr>\n",
       "  <th>Kurtosis:</th>      <td> 3.084</td> <th>  Cond. No.          </th> <td>    451.</td>\n",
       "</tr>\n",
       "</table><br/><br/>Notes:<br/>[1] Standard Errors assume that the covariance matrix of the errors is correctly specified."
      ],
      "text/latex": [
       "\\begin{center}\n",
       "\\begin{tabular}{lclc}\n",
       "\\toprule\n",
       "\\textbf{Dep. Variable:}                   & Performance Index & \\textbf{  R-squared:         } &     0.989   \\\\\n",
       "\\textbf{Model:}                           &        OLS        & \\textbf{  Adj. R-squared:    } &     0.989   \\\\\n",
       "\\textbf{Method:}                          &   Least Squares   & \\textbf{  F-statistic:       } & 1.724e+05   \\\\\n",
       "\\textbf{Date:}                            &  Tue, 29 Oct 2024 & \\textbf{  Prob (F-statistic):} &     0.00    \\\\\n",
       "\\textbf{Time:}                            &      18:35:48     & \\textbf{  Log-Likelihood:    } &   -21065.   \\\\\n",
       "\\textbf{No. Observations:}                &         9873      & \\textbf{  AIC:               } & 4.214e+04   \\\\\n",
       "\\textbf{Df Residuals:}                    &         9867      & \\textbf{  BIC:               } & 4.219e+04   \\\\\n",
       "\\textbf{Df Model:}                        &            5      & \\textbf{                     } &             \\\\\n",
       "\\textbf{Covariance Type:}                 &     nonrobust     & \\textbf{                     } &             \\\\\n",
       "\\bottomrule\n",
       "\\end{tabular}\n",
       "\\begin{tabular}{lcccccc}\n",
       "                                          & \\textbf{coef} & \\textbf{std err} & \\textbf{t} & \\textbf{P$> |$t$|$} & \\textbf{[0.025} & \\textbf{0.975]}  \\\\\n",
       "\\midrule\n",
       "\\textbf{const}                            &     -34.0689  &        0.128     &  -265.875  &         0.000        &      -34.320    &      -33.818     \\\\\n",
       "\\textbf{Hours Studied}                    &       2.8527  &        0.008     &   358.940  &         0.000        &        2.837    &        2.868     \\\\\n",
       "\\textbf{Previous Scores}                  &       1.0183  &        0.001     &   857.427  &         0.000        &        1.016    &        1.021     \\\\\n",
       "\\textbf{Extracurricular Activities}       &       0.6167  &        0.041     &    14.981  &         0.000        &        0.536    &        0.697     \\\\\n",
       "\\textbf{Sleep Hours}                      &       0.4803  &        0.012     &    39.623  &         0.000        &        0.457    &        0.504     \\\\\n",
       "\\textbf{Sample Question Papers Practiced} &       0.1939  &        0.007     &    27.017  &         0.000        &        0.180    &        0.208     \\\\\n",
       "\\bottomrule\n",
       "\\end{tabular}\n",
       "\\begin{tabular}{lclc}\n",
       "\\textbf{Omnibus:}       &  3.123 & \\textbf{  Durbin-Watson:     } &    2.003  \\\\\n",
       "\\textbf{Prob(Omnibus):} &  0.210 & \\textbf{  Jarque-Bera (JB):  } &    3.224  \\\\\n",
       "\\textbf{Skew:}          &  0.014 & \\textbf{  Prob(JB):          } &    0.200  \\\\\n",
       "\\textbf{Kurtosis:}      &  3.084 & \\textbf{  Cond. No.          } &     451.  \\\\\n",
       "\\bottomrule\n",
       "\\end{tabular}\n",
       "%\\caption{OLS Regression Results}\n",
       "\\end{center}\n",
       "\n",
       "Notes: \\newline\n",
       " [1] Standard Errors assume that the covariance matrix of the errors is correctly specified."
      ],
      "text/plain": [
       "<class 'statsmodels.iolib.summary.Summary'>\n",
       "\"\"\"\n",
       "                            OLS Regression Results                            \n",
       "==============================================================================\n",
       "Dep. Variable:      Performance Index   R-squared:                       0.989\n",
       "Model:                            OLS   Adj. R-squared:                  0.989\n",
       "Method:                 Least Squares   F-statistic:                 1.724e+05\n",
       "Date:                Tue, 29 Oct 2024   Prob (F-statistic):               0.00\n",
       "Time:                        18:35:48   Log-Likelihood:                -21065.\n",
       "No. Observations:                9873   AIC:                         4.214e+04\n",
       "Df Residuals:                    9867   BIC:                         4.219e+04\n",
       "Df Model:                           5                                         \n",
       "Covariance Type:            nonrobust                                         \n",
       "====================================================================================================\n",
       "                                       coef    std err          t      P>|t|      [0.025      0.975]\n",
       "----------------------------------------------------------------------------------------------------\n",
       "const                              -34.0689      0.128   -265.875      0.000     -34.320     -33.818\n",
       "Hours Studied                        2.8527      0.008    358.940      0.000       2.837       2.868\n",
       "Previous Scores                      1.0183      0.001    857.427      0.000       1.016       1.021\n",
       "Extracurricular Activities           0.6167      0.041     14.981      0.000       0.536       0.697\n",
       "Sleep Hours                          0.4803      0.012     39.623      0.000       0.457       0.504\n",
       "Sample Question Papers Practiced     0.1939      0.007     27.017      0.000       0.180       0.208\n",
       "==============================================================================\n",
       "Omnibus:                        3.123   Durbin-Watson:                   2.003\n",
       "Prob(Omnibus):                  0.210   Jarque-Bera (JB):                3.224\n",
       "Skew:                           0.014   Prob(JB):                        0.200\n",
       "Kurtosis:                       3.084   Cond. No.                         451.\n",
       "==============================================================================\n",
       "\n",
       "Notes:\n",
       "[1] Standard Errors assume that the covariance matrix of the errors is correctly specified.\n",
       "\"\"\""
      ]
     },
     "execution_count": 21,
     "metadata": {},
     "output_type": "execute_result"
    }
   ],
   "source": [
    "x_const= sm.add_constant(X)\n",
    "model = sm.OLS(y, x_const).fit()\n",
    "model.summary()"
   ]
  },
  {
   "cell_type": "markdown",
   "id": "252c93a0-8fc7-487e-acef-715eea5e617e",
   "metadata": {},
   "source": [
    "## Backward elimination with AIC score"
   ]
  },
  {
   "cell_type": "code",
   "execution_count": 22,
   "id": "305f4c94-4e4c-4827-b042-ff1f8f824042",
   "metadata": {},
   "outputs": [],
   "source": [
    "#Backward elimination with AIC score\n",
    "def backward_selection_with_aic(y, x: pd.DataFrame) -> (sm.regression.linear_model.RegressionResults, pd.DataFrame):\n",
    "    col=x.columns\n",
    "    x_const= sm.add_constant(x)\n",
    "    model = sm.OLS(y, x_const).fit()\n",
    "    aic = model.aic\n",
    "    feature_to_remove=[]\n",
    "    for label in col:\n",
    "        model = sm.OLS(y, x_const.drop(feature_to_remove,axis=1)).fit()\n",
    "        new_aic = model.aic\n",
    "        if aic > new_aic:\n",
    "            feature_to_remove.pop()\n",
    "            continue;\n",
    "        p_values = model.pvalues\n",
    "        max_p_value = p_values.max()\n",
    "        if p_values.idxmax()!='const':\n",
    "            feature_to_remove.append(p_values.idxmax())\n",
    "        aic=new_aic\n",
    "    return model, x.drop(feature_to_remove,axis=1)"
   ]
  },
  {
   "cell_type": "code",
   "execution_count": 23,
   "id": "fb83e8c7-339d-4c79-9d6f-224844f0b378",
   "metadata": {},
   "outputs": [
    {
     "data": {
      "text/html": [
       "<table class=\"simpletable\">\n",
       "<caption>OLS Regression Results</caption>\n",
       "<tr>\n",
       "  <th>Dep. Variable:</th>    <td>Performance Index</td> <th>  R-squared:         </th> <td>   0.986</td> \n",
       "</tr>\n",
       "<tr>\n",
       "  <th>Model:</th>                   <td>OLS</td>        <th>  Adj. R-squared:    </th> <td>   0.986</td> \n",
       "</tr>\n",
       "<tr>\n",
       "  <th>Method:</th>             <td>Least Squares</td>   <th>  F-statistic:       </th> <td>3.424e+05</td>\n",
       "</tr>\n",
       "<tr>\n",
       "  <th>Date:</th>             <td>Tue, 29 Oct 2024</td>  <th>  Prob (F-statistic):</th>  <td>  0.00</td>  \n",
       "</tr>\n",
       "<tr>\n",
       "  <th>Time:</th>                 <td>18:35:48</td>      <th>  Log-Likelihood:    </th> <td> -22187.</td> \n",
       "</tr>\n",
       "<tr>\n",
       "  <th>No. Observations:</th>      <td>  9873</td>       <th>  AIC:               </th> <td>4.438e+04</td>\n",
       "</tr>\n",
       "<tr>\n",
       "  <th>Df Residuals:</th>          <td>  9870</td>       <th>  BIC:               </th> <td>4.440e+04</td>\n",
       "</tr>\n",
       "<tr>\n",
       "  <th>Df Model:</th>              <td>     2</td>       <th>                     </th>     <td> </td>    \n",
       "</tr>\n",
       "<tr>\n",
       "  <th>Covariance Type:</th>      <td>nonrobust</td>     <th>                     </th>     <td> </td>    \n",
       "</tr>\n",
       "</table>\n",
       "<table class=\"simpletable\">\n",
       "<tr>\n",
       "         <td></td>            <th>coef</th>     <th>std err</th>      <th>t</th>      <th>P>|t|</th>  <th>[0.025</th>    <th>0.975]</th>  \n",
       "</tr>\n",
       "<tr>\n",
       "  <th>const</th>           <td>  -29.8189</td> <td>    0.105</td> <td> -282.693</td> <td> 0.000</td> <td>  -30.026</td> <td>  -29.612</td>\n",
       "</tr>\n",
       "<tr>\n",
       "  <th>Hours Studied</th>   <td>    2.8574</td> <td>    0.009</td> <td>  320.997</td> <td> 0.000</td> <td>    2.840</td> <td>    2.875</td>\n",
       "</tr>\n",
       "<tr>\n",
       "  <th>Previous Scores</th> <td>    1.0192</td> <td>    0.001</td> <td>  766.139</td> <td> 0.000</td> <td>    1.017</td> <td>    1.022</td>\n",
       "</tr>\n",
       "</table>\n",
       "<table class=\"simpletable\">\n",
       "<tr>\n",
       "  <th>Omnibus:</th>       <td> 2.272</td> <th>  Durbin-Watson:     </th> <td>   1.992</td>\n",
       "</tr>\n",
       "<tr>\n",
       "  <th>Prob(Omnibus):</th> <td> 0.321</td> <th>  Jarque-Bera (JB):  </th> <td>   2.285</td>\n",
       "</tr>\n",
       "<tr>\n",
       "  <th>Skew:</th>          <td> 0.017</td> <th>  Prob(JB):          </th> <td>   0.319</td>\n",
       "</tr>\n",
       "<tr>\n",
       "  <th>Kurtosis:</th>      <td> 3.067</td> <th>  Cond. No.          </th> <td>    329.</td>\n",
       "</tr>\n",
       "</table><br/><br/>Notes:<br/>[1] Standard Errors assume that the covariance matrix of the errors is correctly specified."
      ],
      "text/latex": [
       "\\begin{center}\n",
       "\\begin{tabular}{lclc}\n",
       "\\toprule\n",
       "\\textbf{Dep. Variable:}    & Performance Index & \\textbf{  R-squared:         } &     0.986   \\\\\n",
       "\\textbf{Model:}            &        OLS        & \\textbf{  Adj. R-squared:    } &     0.986   \\\\\n",
       "\\textbf{Method:}           &   Least Squares   & \\textbf{  F-statistic:       } & 3.424e+05   \\\\\n",
       "\\textbf{Date:}             &  Tue, 29 Oct 2024 & \\textbf{  Prob (F-statistic):} &     0.00    \\\\\n",
       "\\textbf{Time:}             &      18:35:48     & \\textbf{  Log-Likelihood:    } &   -22187.   \\\\\n",
       "\\textbf{No. Observations:} &         9873      & \\textbf{  AIC:               } & 4.438e+04   \\\\\n",
       "\\textbf{Df Residuals:}     &         9870      & \\textbf{  BIC:               } & 4.440e+04   \\\\\n",
       "\\textbf{Df Model:}         &            2      & \\textbf{                     } &             \\\\\n",
       "\\textbf{Covariance Type:}  &     nonrobust     & \\textbf{                     } &             \\\\\n",
       "\\bottomrule\n",
       "\\end{tabular}\n",
       "\\begin{tabular}{lcccccc}\n",
       "                         & \\textbf{coef} & \\textbf{std err} & \\textbf{t} & \\textbf{P$> |$t$|$} & \\textbf{[0.025} & \\textbf{0.975]}  \\\\\n",
       "\\midrule\n",
       "\\textbf{const}           &     -29.8189  &        0.105     &  -282.693  &         0.000        &      -30.026    &      -29.612     \\\\\n",
       "\\textbf{Hours Studied}   &       2.8574  &        0.009     &   320.997  &         0.000        &        2.840    &        2.875     \\\\\n",
       "\\textbf{Previous Scores} &       1.0192  &        0.001     &   766.139  &         0.000        &        1.017    &        1.022     \\\\\n",
       "\\bottomrule\n",
       "\\end{tabular}\n",
       "\\begin{tabular}{lclc}\n",
       "\\textbf{Omnibus:}       &  2.272 & \\textbf{  Durbin-Watson:     } &    1.992  \\\\\n",
       "\\textbf{Prob(Omnibus):} &  0.321 & \\textbf{  Jarque-Bera (JB):  } &    2.285  \\\\\n",
       "\\textbf{Skew:}          &  0.017 & \\textbf{  Prob(JB):          } &    0.319  \\\\\n",
       "\\textbf{Kurtosis:}      &  3.067 & \\textbf{  Cond. No.          } &     329.  \\\\\n",
       "\\bottomrule\n",
       "\\end{tabular}\n",
       "%\\caption{OLS Regression Results}\n",
       "\\end{center}\n",
       "\n",
       "Notes: \\newline\n",
       " [1] Standard Errors assume that the covariance matrix of the errors is correctly specified."
      ],
      "text/plain": [
       "<class 'statsmodels.iolib.summary.Summary'>\n",
       "\"\"\"\n",
       "                            OLS Regression Results                            \n",
       "==============================================================================\n",
       "Dep. Variable:      Performance Index   R-squared:                       0.986\n",
       "Model:                            OLS   Adj. R-squared:                  0.986\n",
       "Method:                 Least Squares   F-statistic:                 3.424e+05\n",
       "Date:                Tue, 29 Oct 2024   Prob (F-statistic):               0.00\n",
       "Time:                        18:35:48   Log-Likelihood:                -22187.\n",
       "No. Observations:                9873   AIC:                         4.438e+04\n",
       "Df Residuals:                    9870   BIC:                         4.440e+04\n",
       "Df Model:                           2                                         \n",
       "Covariance Type:            nonrobust                                         \n",
       "===================================================================================\n",
       "                      coef    std err          t      P>|t|      [0.025      0.975]\n",
       "-----------------------------------------------------------------------------------\n",
       "const             -29.8189      0.105   -282.693      0.000     -30.026     -29.612\n",
       "Hours Studied       2.8574      0.009    320.997      0.000       2.840       2.875\n",
       "Previous Scores     1.0192      0.001    766.139      0.000       1.017       1.022\n",
       "==============================================================================\n",
       "Omnibus:                        2.272   Durbin-Watson:                   1.992\n",
       "Prob(Omnibus):                  0.321   Jarque-Bera (JB):                2.285\n",
       "Skew:                           0.017   Prob(JB):                        0.319\n",
       "Kurtosis:                       3.067   Cond. No.                         329.\n",
       "==============================================================================\n",
       "\n",
       "Notes:\n",
       "[1] Standard Errors assume that the covariance matrix of the errors is correctly specified.\n",
       "\"\"\""
      ]
     },
     "execution_count": 23,
     "metadata": {},
     "output_type": "execute_result"
    }
   ],
   "source": [
    "new_model, remaining_x = backward_selection_with_aic(y, X)\n",
    "new_model.summary()"
   ]
  },
  {
   "cell_type": "code",
   "execution_count": 24,
   "id": "1154786c-150d-4e92-9782-8d9698dedc02",
   "metadata": {},
   "outputs": [
    {
     "data": {
      "text/html": [
       "<div>\n",
       "<style scoped>\n",
       "    .dataframe tbody tr th:only-of-type {\n",
       "        vertical-align: middle;\n",
       "    }\n",
       "\n",
       "    .dataframe tbody tr th {\n",
       "        vertical-align: top;\n",
       "    }\n",
       "\n",
       "    .dataframe thead th {\n",
       "        text-align: right;\n",
       "    }\n",
       "</style>\n",
       "<table border=\"1\" class=\"dataframe\">\n",
       "  <thead>\n",
       "    <tr style=\"text-align: right;\">\n",
       "      <th></th>\n",
       "      <th>Hours Studied</th>\n",
       "      <th>Previous Scores</th>\n",
       "    </tr>\n",
       "  </thead>\n",
       "  <tbody>\n",
       "    <tr>\n",
       "      <th>0</th>\n",
       "      <td>7</td>\n",
       "      <td>99</td>\n",
       "    </tr>\n",
       "    <tr>\n",
       "      <th>1</th>\n",
       "      <td>4</td>\n",
       "      <td>82</td>\n",
       "    </tr>\n",
       "    <tr>\n",
       "      <th>2</th>\n",
       "      <td>8</td>\n",
       "      <td>51</td>\n",
       "    </tr>\n",
       "    <tr>\n",
       "      <th>3</th>\n",
       "      <td>5</td>\n",
       "      <td>52</td>\n",
       "    </tr>\n",
       "    <tr>\n",
       "      <th>4</th>\n",
       "      <td>7</td>\n",
       "      <td>75</td>\n",
       "    </tr>\n",
       "    <tr>\n",
       "      <th>...</th>\n",
       "      <td>...</td>\n",
       "      <td>...</td>\n",
       "    </tr>\n",
       "    <tr>\n",
       "      <th>9995</th>\n",
       "      <td>1</td>\n",
       "      <td>49</td>\n",
       "    </tr>\n",
       "    <tr>\n",
       "      <th>9996</th>\n",
       "      <td>7</td>\n",
       "      <td>64</td>\n",
       "    </tr>\n",
       "    <tr>\n",
       "      <th>9997</th>\n",
       "      <td>6</td>\n",
       "      <td>83</td>\n",
       "    </tr>\n",
       "    <tr>\n",
       "      <th>9998</th>\n",
       "      <td>9</td>\n",
       "      <td>97</td>\n",
       "    </tr>\n",
       "    <tr>\n",
       "      <th>9999</th>\n",
       "      <td>7</td>\n",
       "      <td>74</td>\n",
       "    </tr>\n",
       "  </tbody>\n",
       "</table>\n",
       "<p>9873 rows × 2 columns</p>\n",
       "</div>"
      ],
      "text/plain": [
       "      Hours Studied  Previous Scores\n",
       "0                 7               99\n",
       "1                 4               82\n",
       "2                 8               51\n",
       "3                 5               52\n",
       "4                 7               75\n",
       "...             ...              ...\n",
       "9995              1               49\n",
       "9996              7               64\n",
       "9997              6               83\n",
       "9998              9               97\n",
       "9999              7               74\n",
       "\n",
       "[9873 rows x 2 columns]"
      ]
     },
     "execution_count": 24,
     "metadata": {},
     "output_type": "execute_result"
    }
   ],
   "source": [
    "remaining_x"
   ]
  },
  {
   "cell_type": "markdown",
   "id": "819b583c-8695-4394-83b9-86aa2a6803e6",
   "metadata": {},
   "source": [
    "## Split data"
   ]
  },
  {
   "cell_type": "code",
   "execution_count": 25,
   "id": "98557bd8-eb0b-4793-ba6b-124c84430b60",
   "metadata": {},
   "outputs": [],
   "source": [
    "X_train, X_test, y_train, y_test = train_test_split(remaining_x, y, test_size=0.3, random_state=42)\n",
    "X_train_const= sm.add_constant(X_train)"
   ]
  },
  {
   "cell_type": "code",
   "execution_count": 26,
   "id": "6bfe4ce8-64c1-4d0e-af17-f1311dadc636",
   "metadata": {},
   "outputs": [
    {
     "name": "stdout",
     "output_type": "stream",
     "text": [
      "X train       Hours Studied  Previous Scores\n",
      "4066              7               84\n",
      "7268              6               82\n",
      "3715              8               83\n",
      "5619              6               60\n",
      "9311              3               94\n",
      "...             ...              ...\n",
      "5771              2               46\n",
      "5221              9               60\n",
      "5424              5               95\n",
      "860               1               47\n",
      "7337              9               84\n",
      "\n",
      "[6911 rows x 2 columns]\n",
      "X test       Hours Studied  Previous Scores\n",
      "6099              4               64\n",
      "106               7               90\n",
      "9265              6               73\n",
      "4707              3               43\n",
      "2155              9               76\n",
      "...             ...              ...\n",
      "4442              2               97\n",
      "9458              6               59\n",
      "5878              6               42\n",
      "2638              1               78\n",
      "7665              2               87\n",
      "\n",
      "[2962 rows x 2 columns]\n"
     ]
    }
   ],
   "source": [
    "print(\"X train\", X_train)\n",
    "print(\"X test\",X_test)"
   ]
  },
  {
   "cell_type": "code",
   "execution_count": 28,
   "id": "81723907-6c61-4519-b444-93cba834e365",
   "metadata": {},
   "outputs": [
    {
     "name": "stdout",
     "output_type": "stream",
     "text": [
      "                            OLS Regression Results                            \n",
      "==============================================================================\n",
      "Dep. Variable:      Performance Index   R-squared:                       0.986\n",
      "Model:                            OLS   Adj. R-squared:                  0.986\n",
      "Method:                 Least Squares   F-statistic:                 2.456e+05\n",
      "Date:                Tue, 29 Oct 2024   Prob (F-statistic):               0.00\n",
      "Time:                        18:52:17   Log-Likelihood:                -15461.\n",
      "No. Observations:                6911   AIC:                         3.093e+04\n",
      "Df Residuals:                    6908   BIC:                         3.095e+04\n",
      "Df Model:                           2                                         \n",
      "Covariance Type:            nonrobust                                         \n",
      "===================================================================================\n",
      "                      coef    std err          t      P>|t|      [0.025      0.975]\n",
      "-----------------------------------------------------------------------------------\n",
      "const             -29.7667      0.124   -239.509      0.000     -30.010     -29.523\n",
      "Hours Studied       2.8537      0.011    270.800      0.000       2.833       2.874\n",
      "Previous Scores     1.0185      0.002    647.630      0.000       1.015       1.022\n",
      "==============================================================================\n",
      "Omnibus:                        1.404   Durbin-Watson:                   1.982\n",
      "Prob(Omnibus):                  0.495   Jarque-Bera (JB):                1.377\n",
      "Skew:                          -0.013   Prob(JB):                        0.502\n",
      "Kurtosis:                       3.064   Cond. No.                         327.\n",
      "==============================================================================\n",
      "\n",
      "Notes:\n",
      "[1] Standard Errors assume that the covariance matrix of the errors is correctly specified.\n"
     ]
    }
   ],
   "source": [
    "model = sm.OLS(y_train, X_train_const).fit()\n",
    "print(model.summary(alpha = 0.05))"
   ]
  },
  {
   "cell_type": "code",
   "execution_count": 29,
   "id": "09dd4a27-0274-4575-87b1-b041722124be",
   "metadata": {},
   "outputs": [
    {
     "name": "stdout",
     "output_type": "stream",
     "text": [
      "\n",
      "Root Mean Squared Error for the model: 2.34\n"
     ]
    }
   ],
   "source": [
    "X_test_const= sm.add_constant(X_test)\n",
    "y_pred=model.predict(X_test_const)\n",
    "rmse = root_mean_squared_error(y_test, y_pred)\n",
    "print(f'\\nRoot Mean Squared Error for the model: {rmse:.2f}')"
   ]
  },
  {
   "cell_type": "code",
   "execution_count": 30,
   "id": "f6486077-5eff-456e-aba4-c7ebc52ad9e7",
   "metadata": {},
   "outputs": [
    {
     "data": {
      "image/png": "[encoded data removed]",
      "text/plain": [
       "<Figure size 640x480 with 1 Axes>"
      ]
     },
     "metadata": {},
     "output_type": "display_data"
    }
   ],
   "source": [
    "plt.scatter(y_pred,y_test)\n",
    "plt.title(\"Predicted value vs Actual value\")\n",
    "plt.xlabel(\"Predicted\")\n",
    "plt.ylabel(\"Actual\")\n",
    "plt.show()"
   ]
  }
 ],
 "metadata": {
  "kernelspec": {
   "display_name": "venv",
   "language": "python",
   "name": "venv"
  },
  "language_info": {
   "codemirror_mode": {
    "name": "ipython",
    "version": 3
   },
   "file_extension": ".py",
   "mimetype": "text/x-python",
   "name": "python",
   "nbconvert_exporter": "python",
   "pygments_lexer": "ipython3",
   "version": "3.11.9"
  }
 },
 "nbformat": 4,
 "nbformat_minor": 5
}
